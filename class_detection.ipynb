{
 "cells": [
  {
   "cell_type": "markdown",
   "metadata": {},
   "source": [
    "# Classes detections"
   ]
  },
  {
   "cell_type": "code",
   "execution_count": 1,
   "metadata": {},
   "outputs": [
    {
     "name": "stdout",
     "output_type": "stream",
     "text": [
      "PyTorch version: 2.1.0+cu121\n"
     ]
    }
   ],
   "source": [
    "import os\n",
    "import zipfile\n",
    "import numpy as np\n",
    "import matplotlib.pyplot as plt\n",
    "import time\n",
    "import random\n",
    "# Import PyTorch modules (edit this list if needed)\n",
    "import torch\n",
    "print(f'PyTorch version: {torch.__version__}')\n",
    "import torchvision\n",
    "import torchvision.transforms as transforms\n",
    "from torchvision import datasets\n",
    "from torch.utils.data import Dataset, DataLoader\n",
    "import torch.nn as nn\n",
    "import torch.nn.functional as F\n",
    "import torchvision.models as models\n",
    "from matplotlib import image as mpimg"
   ]
  },
  {
   "cell_type": "code",
   "execution_count": 2,
   "metadata": {},
   "outputs": [],
   "source": [
    "device = None\n",
    "if torch.cuda.is_available():\n",
    "    device = torch.device(\"cuda\")\n",
    "    torch.cuda.empty_cache()\n",
    "else:\n",
    "    device = torch.device(\"cpu\")"
   ]
  },
  {
   "cell_type": "code",
   "execution_count": 3,
   "metadata": {},
   "outputs": [],
   "source": [
    "WIDTH, HEIGHT = 28, 28\n",
    "EPOCHS: int = 20\n",
    "BATCH_SIZE: int = 32"
   ]
  },
  {
   "cell_type": "code",
   "execution_count": 4,
   "metadata": {},
   "outputs": [
    {
     "name": "stdout",
     "output_type": "stream",
     "text": [
      "loaded numpy bitmaps, 8 classes\n"
     ]
    }
   ],
   "source": [
    "resources_folder = 'resources'\n",
    "\n",
    "classes = ['apple', 'golf club', 'hedgehog', 'moon', 'mushroom', 'rain', 'roller coaster', 'squirrel']\n",
    "nb_classes = len(classes)\n",
    "\n",
    "data = [np.load(os.path.join(resources_folder, 'full_numpy_bitmap_'+class_name+'.npy')) for class_name in classes]\n",
    "print(f'loaded numpy bitmaps, {nb_classes} classes')"
   ]
  },
  {
   "cell_type": "code",
   "execution_count": 5,
   "metadata": {},
   "outputs": [
    {
     "data": {
      "image/png": "[encoded data removed]",
      "text/plain": [
       "<Figure size 864x432 with 8 Axes>"
      ]
     },
     "metadata": {
      "needs_background": "light"
     },
     "output_type": "display_data"
    }
   ],
   "source": [
    "to_plot = []\n",
    "\n",
    "for class_data in data:\n",
    "    array = random.choice(class_data).reshape(WIDTH, HEIGHT)\n",
    "    to_plot.append(array)\n",
    "\n",
    "num_cols = 4\n",
    "num_rows = 2\n",
    "\n",
    "fig, axes = plt.subplots(num_rows, num_cols, figsize=(12, 6))\n",
    "\n",
    "for i in range(nb_classes):\n",
    "    row_index = i // num_cols\n",
    "    col_index = i % num_cols\n",
    "    axes[row_index, col_index].imshow(to_plot[i], cmap='gray')\n",
    "    axes[row_index, col_index].axis('off')\n",
    "    axes[row_index, col_index].set_title(classes[i])\n",
    "\n",
    "plt.tight_layout()\n",
    "plt.suptitle('Random element from each class')\n",
    "\n",
    "plt.subplots_adjust(top=0.9)\n",
    "\n",
    "plt.show()\n"
   ]
  },
  {
   "cell_type": "code",
   "execution_count": 6,
   "metadata": {},
   "outputs": [],
   "source": [
    "class CustomDataset(Dataset):\n",
    "    def __init__(self, data, labels):\n",
    "        super().__init__()\n",
    "\n",
    "        self.size = \"\"\n",
    "\n",
    "        self.data=np.array(data)\n",
    "        self.labels=np.array(labels)\n",
    "\n",
    "        self.reshaped_data = [self.reshape_image(img) for img in data]\n",
    "\n",
    "    def reshape_image(self, img):\n",
    "        return img.reshape(WIDTH, HEIGHT)\n",
    "        \n",
    "\n",
    "    def __getitem__(self, key: int):\n",
    "        assert key < self.__len__()\n",
    "\n",
    "        img = self.reshaped_data[key]\n",
    "        label = self.labels[key]\n",
    "\n",
    "        return img, label\n",
    "\n",
    "    \n",
    "    def __len__(self):\n",
    "        return len(self.data)"
   ]
  },
  {
   "cell_type": "code",
   "execution_count": 7,
   "metadata": {},
   "outputs": [
    {
     "name": "stdout",
     "output_type": "stream",
     "text": [
      "training dataset size : 927239\n",
      "validation dataset size : 231814\n"
     ]
    }
   ],
   "source": [
    "split = 0.8\n",
    "\n",
    "training_data, validation_data = [], []\n",
    "training_labels, validation_labels = [], []\n",
    "\n",
    "for class_data, label in zip(data, np.arange(start=1, stop=9)):\n",
    "    np.random.shuffle(class_data)\n",
    "\n",
    "    split_idx=int(split*len(class_data))\n",
    "    \n",
    "    for img in class_data[:split_idx]:\n",
    "        training_data.append(img.astype(np.float32))\n",
    "        training_labels.append(label)\n",
    "\n",
    "    for img in class_data[split_idx:]:\n",
    "        validation_data.append(img.astype(np.float32))\n",
    "        validation_labels.append(label)\n",
    "\n",
    "assert len(training_data) == len(training_labels)\n",
    "assert len(validation_data) == len(validation_labels)\n",
    "\n",
    "print(f'training dataset size : {len(training_data)}')\n",
    "print(f'validation dataset size : {len(validation_data)}')"
   ]
  },
  {
   "cell_type": "code",
   "execution_count": null,
   "metadata": {},
   "outputs": [],
   "source": [
    "training_set = CustomDataset(data=training_data, labels=training_labels)\n",
    "validation_set = CustomDataset(data=validation_data, labels=validation_labels)\n",
    "\n",
    "training_loaded_set = DataLoader(training_set, batch_size=BATCH_SIZE, shuffle=True)\n",
    "validation_loaded_set = DataLoader(validation_set, batch_size=BATCH_SIZE , shuffle=True)"
   ]
  },
  {
   "cell_type": "code",
   "execution_count": null,
   "metadata": {},
   "outputs": [],
   "source": [
    "def plot_loss_and_accuracy_per_epoch(model):\n",
    "    plt.plot(model.nb_epochs, model.loss_history)\n",
    "    plt.ylabel('loss')\n",
    "    plt.xlabel('epoch')\n",
    "    plt.title('loss per epoch')\n",
    "    plt.show()\n",
    "\n",
    "    plt.plot(model.nb_epochs, model.train_acc_history, label='training')\n",
    "    plt.plot(model.nb_epochs, model.valid_acc_history, label='validation')\n",
    "    plt.ylabel('accuracy in %')\n",
    "    plt.xlabel('epoch')\n",
    "    plt.ylim(0, 100)\n",
    "    plt.title('accuracy per epoch')\n",
    "    plt.legend()\n",
    "    plt.show()"
   ]
  },
  {
   "cell_type": "code",
   "execution_count": null,
   "metadata": {},
   "outputs": [],
   "source": [
    "class CustomClassifier(nn.Module):\n",
    "    def __init__(self, device):\n",
    "        super().__init__()\n",
    "\n",
    "        self._device = device\n",
    "        # Load pre-trained VGG16 model\n",
    "        self.vgg16 = models.vgg16(pretrained=True)\n",
    "\n",
    "        # Freeze all layers in VGG16\n",
    "        for param in self.vgg16.parameters():\n",
    "            param.requires_grad = False\n",
    "\n",
    "        # classifier at the end\n",
    "        classifier_input_size = self.vgg16.classifier[6].in_features\n",
    "        classifier = nn.Sequential(\n",
    "            nn.Linear(classifier_input_size, 512),\n",
    "            nn.ReLU(),\n",
    "            nn.Dropout(0.5),\n",
    "            nn.Linear(512, 8),\n",
    "            nn.Softmax(dim=1)\n",
    "        )\n",
    "\n",
    "        # Modify the first layer to accept single-channel images\n",
    "        self.vgg16.features[0] = nn.Conv2d(1, 64, kernel_size=3, padding=1)\n",
    "\n",
    "        # Replace the existing classifier with the new one\n",
    "        self.vgg16.classifier[6] = classifier\n",
    "\n",
    "    def forward(self, input):\n",
    "        return self.vgg16(input)\n",
    "\n",
    "    def compute_accuracy(self, dataset: DataLoader):\n",
    "        correct, total = 0, 0\n",
    "\n",
    "        for data in dataset:\n",
    "            inputs, labels = data\n",
    "\n",
    "            outputs = self.predict(inputs)\n",
    "            _, predicted_classes = torch.max(outputs, 1)\n",
    "\n",
    "            total += labels.size(0)\n",
    "            correct += (predicted_classes == labels).sum().item()\n",
    "\n",
    "        return correct/total\n",
    "\n",
    "    def fit(self, train_loader, valid_loader, nb_epochs:int =10):\n",
    "        self.loss_history = []\n",
    "        self.train_acc_history = []\n",
    "        self.valid_acc_history = []\n",
    "        \n",
    "        self.nb_epochs = [epoch+1 for epoch in range(nb_epochs)]\n",
    "\n",
    "        import torch.optim as optim\n",
    "        \n",
    "        optimizer = optim.SGD(self.vgg16.parameters(), lr=0.01, momentum=0.9)\n",
    "\n",
    "        criterion = nn.CrossEntropyLoss()\n",
    "\n",
    "        start_time = time.time()\n",
    "\n",
    "        for epoch in self.nb_epochs:\n",
    "\n",
    "            running_loss = 0.0\n",
    "            nb_batch = 0\n",
    "\n",
    "            for i, data in enumerate(train_loader, start=0):\n",
    "                nb_batch+=1\n",
    "                inputs, labels = data\n",
    "                inputs, labels = inputs.to(self._device), labels.to(self._device)\n",
    "\n",
    "                # zero the parameter gradients\n",
    "                optimizer.zero_grad()\n",
    "\n",
    "                # forward + backward + optimize\n",
    "                outputs = self.forward(inputs)\n",
    "\n",
    "                loss = criterion(outputs, labels)\n",
    "                loss.backward()\n",
    "                optimizer.step()\n",
    "\n",
    "                running_loss += loss.item()\n",
    "                \n",
    "            running_loss/=nb_batch\n",
    "            train_acc = self.compute_accuracy(train_loader)*100\n",
    "            valid_acc = self.compute_accuracy(valid_loader)*100\n",
    "            \n",
    "            print(f'epoch [{epoch}/{len(self.nb_epochs)}], loss : {running_loss}, train acc : {round(train_acc,3)}%, valid acc : {round(valid_acc,3)}%')\n",
    "            self.loss_history.append(running_loss)\n",
    "            self.train_acc_history.append(train_acc)\n",
    "            self.valid_acc_history.append(valid_acc)\n",
    "                    \n",
    "        print('Finished Training')\n",
    "\n",
    "        end_time = time.time()\n",
    "        self.training_time = end_time - start_time\n",
    "        "
   ]
  },
  {
   "cell_type": "code",
   "execution_count": null,
   "metadata": {},
   "outputs": [],
   "source": [
    "model = CustomClassifier(device)\n",
    "model.fit(training_loaded_set, validation_labels)"
   ]
  },
  {
   "cell_type": "code",
   "execution_count": null,
   "metadata": {},
   "outputs": [],
   "source": [
    "plot_loss_and_accuracy_per_epoch(model)\n",
    "\n",
    "print(f'training accuracy : {model.compute_accuracy(training_loaded_set)*100} %')\n",
    "print(f'validaiton accuracy : {model.compute_accuracy(validation_loaded_set)*100} %')"
   ]
  }
 ],
 "metadata": {
  "kernelspec": {
   "display_name": "tf",
   "language": "python",
   "name": "python3"
  },
  "language_info": {
   "codemirror_mode": {
    "name": "ipython",
    "version": 3
   },
   "file_extension": ".py",
   "mimetype": "text/x-python",
   "name": "python",
   "nbconvert_exporter": "python",
   "pygments_lexer": "ipython3",
   "version": "3.8.10"
  }
 },
 "nbformat": 4,
 "nbformat_minor": 2
}
